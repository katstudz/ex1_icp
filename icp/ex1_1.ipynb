{
 "cells": [
  {
   "cell_type": "markdown",
   "metadata": {},
   "source": [
    "# Exercise 1.1 - ICP\n",
    "\n",
    "In this exercise you will implement the ICP algorithm for a small 2D example dataset. "
   ]
  },
  {
   "cell_type": "markdown",
   "metadata": {},
   "source": [
    "## 1.1.1 ICP with given correspondences [5]\n",
    "\n",
    "Implement ICP if the point correspondences are given. \n",
    "A starting point for this exercise is given as follows. "
   ]
  },
  {
   "cell_type": "code",
   "execution_count": 1,
   "metadata": {},
   "outputs": [
    {
     "ename": "ModuleNotFoundError",
     "evalue": "No module named 'sklearn'",
     "output_type": "error",
     "traceback": [
      "\u001B[0;31m---------------------------------------------------------------------------\u001B[0m",
      "\u001B[0;31mModuleNotFoundError\u001B[0m                       Traceback (most recent call last)",
      "\u001B[0;32m<ipython-input-1-611cf023f87e>\u001B[0m in \u001B[0;36m<module>\u001B[0;34m\u001B[0m\n\u001B[0;32m----> 1\u001B[0;31m \u001B[0;32mimport\u001B[0m \u001B[0mex1_1\u001B[0m \u001B[0;32mas\u001B[0m \u001B[0mex\u001B[0m\u001B[0;34m\u001B[0m\u001B[0;34m\u001B[0m\u001B[0m\n\u001B[0m\u001B[1;32m      2\u001B[0m \u001B[0;32mimport\u001B[0m \u001B[0mnumpy\u001B[0m \u001B[0;32mas\u001B[0m \u001B[0mnp\u001B[0m\u001B[0;34m\u001B[0m\u001B[0;34m\u001B[0m\u001B[0m\n\u001B[1;32m      3\u001B[0m \u001B[0;32mimport\u001B[0m \u001B[0mmatplotlib\u001B[0m\u001B[0;34m.\u001B[0m\u001B[0mpyplot\u001B[0m \u001B[0;32mas\u001B[0m \u001B[0mplt\u001B[0m\u001B[0;34m\u001B[0m\u001B[0;34m\u001B[0m\u001B[0m\n\u001B[1;32m      4\u001B[0m \u001B[0;34m\u001B[0m\u001B[0m\n\u001B[1;32m      5\u001B[0m \u001B[0mData\u001B[0m \u001B[0;34m=\u001B[0m \u001B[0mnp\u001B[0m\u001B[0;34m.\u001B[0m\u001B[0mload\u001B[0m\u001B[0;34m(\u001B[0m\u001B[0;34m'icp_data.npz'\u001B[0m\u001B[0;34m)\u001B[0m\u001B[0;34m\u001B[0m\u001B[0;34m\u001B[0m\u001B[0m\n",
      "\u001B[0;32m~/PycharmProjects/ex1/icp/ex1_1.py\u001B[0m in \u001B[0;36m<module>\u001B[0;34m\u001B[0m\n\u001B[1;32m      5\u001B[0m \u001B[0;32mimport\u001B[0m \u001B[0mnumpy\u001B[0m \u001B[0;32mas\u001B[0m \u001B[0mnp\u001B[0m\u001B[0;34m\u001B[0m\u001B[0;34m\u001B[0m\u001B[0m\n\u001B[1;32m      6\u001B[0m \u001B[0;32mimport\u001B[0m \u001B[0mex1_1\u001B[0m \u001B[0;32mas\u001B[0m \u001B[0mex\u001B[0m\u001B[0;34m\u001B[0m\u001B[0;34m\u001B[0m\u001B[0m\n\u001B[0;32m----> 7\u001B[0;31m \u001B[0;32mfrom\u001B[0m \u001B[0msklearn\u001B[0m\u001B[0;34m.\u001B[0m\u001B[0mneighbors\u001B[0m \u001B[0;32mimport\u001B[0m \u001B[0mNearestNeighbors\u001B[0m\u001B[0;34m\u001B[0m\u001B[0;34m\u001B[0m\u001B[0m\n\u001B[0m\u001B[1;32m      8\u001B[0m \u001B[0;34m\u001B[0m\u001B[0m\n\u001B[1;32m      9\u001B[0m \u001B[0;31m# icp_known_corresp: performs icp given that the input datasets\u001B[0m\u001B[0;34m\u001B[0m\u001B[0;34m\u001B[0m\u001B[0;34m\u001B[0m\u001B[0m\n",
      "\u001B[0;31mModuleNotFoundError\u001B[0m: No module named 'sklearn'"
     ]
    }
   ],
   "source": [
    "import ex1_1 as ex\n",
    "import numpy as np\n",
    "import matplotlib.pyplot as plt\n",
    "\n",
    "Data = np.load('icp_data.npz')\n",
    "Line1 = Data['LineGroundTruth']\n",
    "Line2 = Data['LineMovedCorresp']\n",
    "    \n",
    "# Show the initial positions of the lines\n",
    "ex.show_figure(Line1, Line2)"
   ]
  },
  {
   "cell_type": "markdown",
   "metadata": {},
   "source": [
    "Following the missing parts in the algorithm, you will need to: \n",
    "  - compute mean point of an array of points in function **compute_mean()**;\n",
    "  - compute cross covariance matrix **W** in **function compute_W()**;\n",
    "  - compute estimated rotation and translation via **SVD** in function **compute_R_t()**;\n",
    "  - apply the estimated rotation and translation and find the value of the squared error function to discover how good the estimated positions are in function **compute_error()**;\n",
    "  - complete the fuction **icp_known_corresp()**.\n",
    "\n",
    "Refer to the lecture slides for all the details. \n",
    "\n",
    "After you have implemented all the above, you should run the following code correctly and get the aligned Line1 and Line2."
   ]
  },
  {
   "cell_type": "code",
   "execution_count": 4,
   "metadata": {},
   "outputs": [
    {
     "output_type": "display_data",
     "data": {
      "text/plain": "<matplotlib.figure.Figure at 0x7fbdc1205908>",
      "image/png": "[encoded data removed]"
     },
     "metadata": {
      "needs_background": "light"
     }
    },
    {
     "output_type": "stream",
     "name": "stdout",
     "text": "Error value is:  1.3208133055639584e-14\n"
    }
   ],
   "source": [
    "# We assume that the there are 1 to 1 correspondences for this data\n",
    "QInd = np.arange(len(Line1[0]))\n",
    "PInd = np.arange(len(Line2[0]))\n",
    "\n",
    "# Perform icp given the correspondences\n",
    "[Line2, E] = ex.icp_known_corresp(Line1, Line2, QInd, PInd)\n",
    "\n",
    "# Show the adjusted positions of the lines\n",
    "ex.show_figure(Line1, Line2)\n",
    "\n",
    "# print the error\n",
    "print('Error value is: ', E)"
   ]
  },
  {
   "cell_type": "markdown",
   "metadata": {},
   "source": [
    "## 1.1.2 ICP without given correspondences [5]\n",
    "\n",
    "Use the result of your code from the first question, to implement the full ICP algorithm.\n",
    "\n",
    "When the point correspondences are not available. You will need to iteratively find the point correspondences and using these perform the ICP updates. \n",
    "\n",
    "A starting point for this exercise is given as follows.\n",
    "\n",
    "Make you algorithm stop after convergence. \n",
    "\n",
    "**Hint:** The **NearestNeighbors** functions of **sklearn** library can be useful in this task."
   ]
  },
  {
   "cell_type": "code",
   "execution_count": null,
   "metadata": {},
   "outputs": [],
   "source": [
    "Data = np.load('icp_data.npz')\n",
    "Line1 = Data['LineGroundTruth']\n",
    "Line2 = Data['LineMovedNoCorresp']\n",
    "\n",
    "MaxIter = 10\n",
    "Epsilon = 0.001\n",
    "E = np.inf\n",
    "\n",
    "# show figure\n",
    "ex.show_figure(Line1, Line2)\n",
    "    \n",
    "for i in range(MaxIter):\n",
    "\n",
    "    # TODO: find correspondences of points\n",
    "    # point with index QInd(1, k) from Line1 corresponds to\n",
    "    # point with index PInd(1, k) from Line2\n",
    "    QInd = ...\n",
    "    PInd = ...\n",
    "\n",
    "    # update Line2 and error\n",
    "    # Now that you know the correspondences, use your implementation\n",
    "    # of icp with known correspondences and perform an update\n",
    "    EOld = E\n",
    "    [Line2, E] = ex.icp_known_corresp(Line1, Line2, QInd, PInd)\n",
    "        \n",
    "    print('Error value on ' + str(i) + ' iteration is: ', E)\n",
    "\n",
    "    # TODO: perform the check if we need to stop iterating\n",
    "    ..."
   ]
  },
  {
   "cell_type": "code",
   "execution_count": null,
   "metadata": {},
   "outputs": [],
   "source": []
  }
 ],
 "metadata": {
  "kernelspec": {
   "name": "pycharm-a5184ba7",
   "language": "python",
   "display_name": "PyCharm (ex1)"
  },
  "language_info": {
   "codemirror_mode": {
    "name": "ipython",
    "version": 3
   },
   "file_extension": ".py",
   "mimetype": "text/x-python",
   "name": "python",
   "nbconvert_exporter": "python",
   "pygments_lexer": "ipython3",
   "version": "3.6.9-final"
  }
 },
 "nbformat": 4,
 "nbformat_minor": 4
}