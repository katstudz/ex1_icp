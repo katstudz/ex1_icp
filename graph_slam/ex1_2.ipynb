{
 "cells": [
  {
   "cell_type": "markdown",
   "metadata": {},
   "source": [
    "# Exercise 1.2 : Graph-based SLAM"
   ]
  },
  {
   "cell_type": "markdown",
   "metadata": {},
   "source": [
    "The goal of this assignment is to implement a least-squares based method to address the SLAM problem in its graph-based formulation as explained in the lecture. \n",
    "\n",
    "We will consider 2D poses $(x, y, \\theta)$ of the robot and 2D landmarks $(x_l, y_l)$ as the unknowns in our SLAM problem. The data is provided as a graph structure containing nodes (poses and landmarks) and constraints between these nodes (i.e pose-pose and pose-landmark). These datasets are stored as `dataset.g2o` text files. You are provided with the following datasets (see `data` folder), each of which represents the measurements of one SLAM problem.\n",
    "1. `simulation-pose-pose.g2o`: simulated measurements containing pose-pose constraints only  \n",
    "2. `simulation-pose-landmark.g2o`: simulated measurements containing both pose-pose and pose-landmark constraints\n",
    "3. `intel.g2o`: real world measurements containing pose-pose constraints only\n",
    "4. `dlr.g2o`: real world measurements containing both pose-pose and pose-landmark constraints\n",
    "\n",
    "To get started with this task, we provide some Python code which will help in loading the graph structure, visualize it and other functions that you may need. We also provide additional notes `graph-slam-notes.pdf` which explains the Jacobian computations in detail."
   ]
  },
  {
   "cell_type": "markdown",
   "metadata": {},
   "source": [
    "## Task 1.2.0 Understanding the graph structure\n",
    "\n",
    "Each graph consists of a set of nodes (or vertices) and edges that connect these nodes. As discussed in the lecture, the nodes correspond to the unknowns of the least-squares SLAM, whereas the edges correspond to the constraints obtained from the measurements.  In this assignment, the graph has the following types of nodes and edges:\n",
    "\n",
    "1. Nodes:\n",
    "\n",
    "    `VERTEX_SE2`: These nodes represent the 2D pose of the robot $(x, y, \\theta)$\n",
    "\n",
    "    `VERTEX_XY`: These nodes represent the 2D location of the landmark $(x_l, y_l)$\n",
    "    \n",
    "2. Edges:\n",
    "\n",
    "    `EDGE_SE2`: These edges represent a constraint between two VERTEX_SE2 nodes. We refer to these edges as pose-pose constraints.\n",
    "    \n",
    "    `EDGE_SE2_XY`: These edges represent a constraint between a VERTEX_SE2 node and a VERTEX_XY node. We refer these edges as pose-landmark edge. \n",
    "    \n",
    "\n",
    "In our code, we represent the graph as a class with the following attributes:\n",
    "1. `nodes`: A dictionary of nodes where the information of each `node` can be accessed with `nodeId` as a key. Each `node` has a unique `nodeId`. This node can be either `VERTEX_SE2` or `VERTEX_XY`. If node has a dimension of 3, it represents the pose the robot (`VERTEX_SE2`). If the node has a dimension of 2, it represents the location of landmark (`VERTEX_XY`).\n",
    "  \n",
    "    \n",
    "2. `edges`: A list of all the `edges` in the graph where each `edge` has the following attributes:\n",
    "\n",
    "`Type`: The type is 'P' if the constraint is a pose-pose constraint (`EDGE_SE2`), whereas it is 'L' of it is a pose-landmark constraint (`EDGE_SE2_XY`).\n",
    "`fromNode`: `nodeId` of the node from which the edge originates from.\n",
    "`toNode`: `nodeId` of the node to which the edge terminates to.\n",
    "`measurement`: The measurement corresponding to the edge.\n",
    "`information`: The corresponding information matrix for the edge constraint.\n",
    "    \n",
    "3. `x`: All the unknowns (node variables) are stacked into a vector. This should be used for updating the state after each iteration of the optimization.\n",
    "\n",
    "4. `lut`: This is a lookup table (implemented as a dictionary in Python). `lut[nodeId]` provides the starting location of the variables of the node with id `nodeId`.\n",
    "\n",
    "Go through the examples in the cell below to understand how to work with the graph structure. Ensure that you understand how the graph is organized. This will be neccessary to solve all the tasks in the assignment. "
   ]
  },
  {
   "cell_type": "code",
   "execution_count": 1,
   "metadata": {},
   "outputs": [
    {
     "output_type": "stream",
     "name": "stdout",
     "text": "Loaded graph with 77 nodes and 297 edges\n"
    },
    {
     "output_type": "display_data",
     "data": {
      "text/plain": "<matplotlib.figure.Figure at 0x7fc6d5fce080>",
      "image/svg+xml": "<?xml version=\"1.0\" encoding=\"utf-8\" standalone=\"no\"?>\n<!DOCTYPE svg PUBLIC \"-//W3C//DTD SVG 1.1//EN\"\n  \"http://www.w3.org/Graphics/SVG/1.1/DTD/svg11.dtd\">\n<!-- Created with matplotlib (http://matplotlib.org/) -->\n<svg height=\"252pt\" version=\"1.1\" viewBox=\"0 0 382 252\" width=\"382pt\" xmlns=\"http://www.w3.org/2000/svg\" xmlns:xlink=\"http://www.w3.org/1999/xlink\">\n <defs>\n  <style type=\"text/css\">\n*{stroke-linecap:butt;stroke-linejoin:round;}\n  </style>\n </defs>\n <g id=\"figure_1\">\n  <g id=\"patch_1\">\n   <path d=\"M 0 252.018125 \nL 382.471467 252.018125 \nL 382.471467 0 \nL 0 0 \nz\n\" style=\"fill:none;\"/>\n  </g>\n  <g id=\"axes_1\">\n   <g id=\"patch_2\">\n    <path d=\"M 35.304688 228.14 \nL 370.104688 228.14 \nL 370.104688 10.7 \nL 35.304688 10.7 \nz\n\" style=\"fill:#ffffff;\"/>\n   </g>\n   <g id=\"matplotlib.axis_1\">\n    <g id=\"xtick_1\">\n     <g id=\"line2d_1\">\n      <defs>\n       <path d=\"M 0 0 \nL 0 3.5 \n\" id=\"m4045a81c8e\" style=\"stroke:#000000;stroke-width:0.8;\"/>\n      </defs>\n      <g>\n       <use style=\"stroke:#000000;stroke-width:0.8;\" x=\"68.564154\" xlink:href=\"#m4045a81c8e\" y=\"228.14\"/>\n      </g>\n     </g>\n     <g id=\"text_1\">\n      <!-- −4 -->\n      <defs>\n       <path d=\"M 10.59375 35.5 \nL 73.1875 35.5 \nL 73.1875 27.203125 \nL 10.59375 27.203125 \nz\n\" id=\"DejaVuSans-2212\"/>\n       <path d=\"M 37.796875 64.3125 \nL 12.890625 25.390625 \nL 37.796875 25.390625 \nz\nM 35.203125 72.90625 \nL 47.609375 72.90625 \nL 47.609375 25.390625 \nL 58.015625 25.390625 \nL 58.015625 17.1875 \nL 47.609375 17.1875 \nL 47.609375 0 \nL 37.796875 0 \nL 37.796875 17.1875 \nL 4.890625 17.1875 \nL 4.890625 26.703125 \nz\n\" id=\"DejaVuSans-34\"/>\n      </defs>\n      <g transform=\"translate(61.19306 242.738437)scale(0.1 -0.1)\">\n       <use xlink:href=\"#DejaVuSans-2212\"/>\n       <use x=\"83.789062\" xlink:href=\"#DejaVuSans-34\"/>\n      </g>\n     </g>\n    </g>\n    <g id=\"xtick_2\">\n     <g id=\"line2d_2\">\n      <g>\n       <use style=\"stroke:#000000;stroke-width:0.8;\" x=\"111.470556\" xlink:href=\"#m4045a81c8e\" y=\"228.14\"/>\n      </g>\n     </g>\n     <g id=\"text_2\">\n      <!-- −2 -->\n      <defs>\n       <path d=\"M 19.1875 8.296875 \nL 53.609375 8.296875 \nL 53.609375 0 \nL 7.328125 0 \nL 7.328125 8.296875 \nQ 12.9375 14.109375 22.625 23.890625 \nQ 32.328125 33.6875 34.8125 36.53125 \nQ 39.546875 41.84375 41.421875 45.53125 \nQ 43.3125 49.21875 43.3125 52.78125 \nQ 43.3125 58.59375 39.234375 62.25 \nQ 35.15625 65.921875 28.609375 65.921875 \nQ 23.96875 65.921875 18.8125 64.3125 \nQ 13.671875 62.703125 7.8125 59.421875 \nL 7.8125 69.390625 \nQ 13.765625 71.78125 18.9375 73 \nQ 24.125 74.21875 28.421875 74.21875 \nQ 39.75 74.21875 46.484375 68.546875 \nQ 53.21875 62.890625 53.21875 53.421875 \nQ 53.21875 48.921875 51.53125 44.890625 \nQ 49.859375 40.875 45.40625 35.40625 \nQ 44.1875 33.984375 37.640625 27.21875 \nQ 31.109375 20.453125 19.1875 8.296875 \nz\n\" id=\"DejaVuSans-32\"/>\n      </defs>\n      <g transform=\"translate(104.099462 242.738437)scale(0.1 -0.1)\">\n       <use xlink:href=\"#DejaVuSans-2212\"/>\n       <use x=\"83.789062\" xlink:href=\"#DejaVuSans-32\"/>\n      </g>\n     </g>\n    </g>\n    <g id=\"xtick_3\">\n     <g id=\"line2d_3\">\n      <g>\n       <use style=\"stroke:#000000;stroke-width:0.8;\" x=\"154.376958\" xlink:href=\"#m4045a81c8e\" y=\"228.14\"/>\n      </g>\n     </g>\n     <g id=\"text_3\">\n      <!-- 0 -->\n      <defs>\n       <path d=\"M 31.78125 66.40625 \nQ 24.171875 66.40625 20.328125 58.90625 \nQ 16.5 51.421875 16.5 36.375 \nQ 16.5 21.390625 20.328125 13.890625 \nQ 24.171875 6.390625 31.78125 6.390625 \nQ 39.453125 6.390625 43.28125 13.890625 \nQ 47.125 21.390625 47.125 36.375 \nQ 47.125 51.421875 43.28125 58.90625 \nQ 39.453125 66.40625 31.78125 66.40625 \nz\nM 31.78125 74.21875 \nQ 44.046875 74.21875 50.515625 64.515625 \nQ 56.984375 54.828125 56.984375 36.375 \nQ 56.984375 17.96875 50.515625 8.265625 \nQ 44.046875 -1.421875 31.78125 -1.421875 \nQ 19.53125 -1.421875 13.0625 8.265625 \nQ 6.59375 17.96875 6.59375 36.375 \nQ 6.59375 54.828125 13.0625 64.515625 \nQ 19.53125 74.21875 31.78125 74.21875 \nz\n\" id=\"DejaVuSans-30\"/>\n      </defs>\n      <g transform=\"translate(151.195708 242.738437)scale(0.1 -0.1)\">\n       <use xlink:href=\"#DejaVuSans-30\"/>\n      </g>\n     </g>\n    </g>\n    <g id=\"xtick_4\">\n     <g id=\"line2d_4\">\n      <g>\n       <use style=\"stroke:#000000;stroke-width:0.8;\" x=\"197.283359\" xlink:href=\"#m4045a81c8e\" y=\"228.14\"/>\n      </g>\n     </g>\n     <g id=\"text_4\">\n      <!-- 2 -->\n      <g transform=\"translate(194.102109 242.738437)scale(0.1 -0.1)\">\n       <use xlink:href=\"#DejaVuSans-32\"/>\n      </g>\n     </g>\n    </g>\n    <g id=\"xtick_5\">\n     <g id=\"line2d_5\">\n      <g>\n       <use style=\"stroke:#000000;stroke-width:0.8;\" x=\"240.189761\" xlink:href=\"#m4045a81c8e\" y=\"228.14\"/>\n      </g>\n     </g>\n     <g id=\"text_5\">\n      <!-- 4 -->\n      <g transform=\"translate(237.008511 242.738437)scale(0.1 -0.1)\">\n       <use xlink:href=\"#DejaVuSans-34\"/>\n      </g>\n     </g>\n    </g>\n    <g id=\"xtick_6\">\n     <g id=\"line2d_6\">\n      <g>\n       <use style=\"stroke:#000000;stroke-width:0.8;\" x=\"283.096163\" xlink:href=\"#m4045a81c8e\" y=\"228.14\"/>\n      </g>\n     </g>\n     <g id=\"text_6\">\n      <!-- 6 -->\n      <defs>\n       <path d=\"M 33.015625 40.375 \nQ 26.375 40.375 22.484375 35.828125 \nQ 18.609375 31.296875 18.609375 23.390625 \nQ 18.609375 15.53125 22.484375 10.953125 \nQ 26.375 6.390625 33.015625 6.390625 \nQ 39.65625 6.390625 43.53125 10.953125 \nQ 47.40625 15.53125 47.40625 23.390625 \nQ 47.40625 31.296875 43.53125 35.828125 \nQ 39.65625 40.375 33.015625 40.375 \nz\nM 52.59375 71.296875 \nL 52.59375 62.3125 \nQ 48.875 64.0625 45.09375 64.984375 \nQ 41.3125 65.921875 37.59375 65.921875 \nQ 27.828125 65.921875 22.671875 59.328125 \nQ 17.53125 52.734375 16.796875 39.40625 \nQ 19.671875 43.65625 24.015625 45.921875 \nQ 28.375 48.1875 33.59375 48.1875 \nQ 44.578125 48.1875 50.953125 41.515625 \nQ 57.328125 34.859375 57.328125 23.390625 \nQ 57.328125 12.15625 50.6875 5.359375 \nQ 44.046875 -1.421875 33.015625 -1.421875 \nQ 20.359375 -1.421875 13.671875 8.265625 \nQ 6.984375 17.96875 6.984375 36.375 \nQ 6.984375 53.65625 15.1875 63.9375 \nQ 23.390625 74.21875 37.203125 74.21875 \nQ 40.921875 74.21875 44.703125 73.484375 \nQ 48.484375 72.75 52.59375 71.296875 \nz\n\" id=\"DejaVuSans-36\"/>\n      </defs>\n      <g transform=\"translate(279.914913 242.738437)scale(0.1 -0.1)\">\n       <use xlink:href=\"#DejaVuSans-36\"/>\n      </g>\n     </g>\n    </g>\n    <g id=\"xtick_7\">\n     <g id=\"line2d_7\">\n      <g>\n       <use style=\"stroke:#000000;stroke-width:0.8;\" x=\"326.002565\" xlink:href=\"#m4045a81c8e\" y=\"228.14\"/>\n      </g>\n     </g>\n     <g id=\"text_7\">\n      <!-- 8 -->\n      <defs>\n       <path d=\"M 31.78125 34.625 \nQ 24.75 34.625 20.71875 30.859375 \nQ 16.703125 27.09375 16.703125 20.515625 \nQ 16.703125 13.921875 20.71875 10.15625 \nQ 24.75 6.390625 31.78125 6.390625 \nQ 38.8125 6.390625 42.859375 10.171875 \nQ 46.921875 13.96875 46.921875 20.515625 \nQ 46.921875 27.09375 42.890625 30.859375 \nQ 38.875 34.625 31.78125 34.625 \nz\nM 21.921875 38.8125 \nQ 15.578125 40.375 12.03125 44.71875 \nQ 8.5 49.078125 8.5 55.328125 \nQ 8.5 64.0625 14.71875 69.140625 \nQ 20.953125 74.21875 31.78125 74.21875 \nQ 42.671875 74.21875 48.875 69.140625 \nQ 55.078125 64.0625 55.078125 55.328125 \nQ 55.078125 49.078125 51.53125 44.71875 \nQ 48 40.375 41.703125 38.8125 \nQ 48.828125 37.15625 52.796875 32.3125 \nQ 56.78125 27.484375 56.78125 20.515625 \nQ 56.78125 9.90625 50.3125 4.234375 \nQ 43.84375 -1.421875 31.78125 -1.421875 \nQ 19.734375 -1.421875 13.25 4.234375 \nQ 6.78125 9.90625 6.78125 20.515625 \nQ 6.78125 27.484375 10.78125 32.3125 \nQ 14.796875 37.15625 21.921875 38.8125 \nz\nM 18.3125 54.390625 \nQ 18.3125 48.734375 21.84375 45.5625 \nQ 25.390625 42.390625 31.78125 42.390625 \nQ 38.140625 42.390625 41.71875 45.5625 \nQ 45.3125 48.734375 45.3125 54.390625 \nQ 45.3125 60.0625 41.71875 63.234375 \nQ 38.140625 66.40625 31.78125 66.40625 \nQ 25.390625 66.40625 21.84375 63.234375 \nQ 18.3125 60.0625 18.3125 54.390625 \nz\n\" id=\"DejaVuSans-38\"/>\n      </defs>\n      <g transform=\"translate(322.821315 242.738437)scale(0.1 -0.1)\">\n       <use xlink:href=\"#DejaVuSans-38\"/>\n      </g>\n     </g>\n    </g>\n    <g id=\"xtick_8\">\n     <g id=\"line2d_8\">\n      <g>\n       <use style=\"stroke:#000000;stroke-width:0.8;\" x=\"368.908967\" xlink:href=\"#m4045a81c8e\" y=\"228.14\"/>\n      </g>\n     </g>\n     <g id=\"text_8\">\n      <!-- 10 -->\n      <defs>\n       <path d=\"M 12.40625 8.296875 \nL 28.515625 8.296875 \nL 28.515625 63.921875 \nL 10.984375 60.40625 \nL 10.984375 69.390625 \nL 28.421875 72.90625 \nL 38.28125 72.90625 \nL 38.28125 8.296875 \nL 54.390625 8.296875 \nL 54.390625 0 \nL 12.40625 0 \nz\n\" id=\"DejaVuSans-31\"/>\n      </defs>\n      <g transform=\"translate(362.546467 242.738437)scale(0.1 -0.1)\">\n       <use xlink:href=\"#DejaVuSans-31\"/>\n       <use x=\"63.623047\" xlink:href=\"#DejaVuSans-30\"/>\n      </g>\n     </g>\n    </g>\n   </g>\n   <g id=\"matplotlib.axis_2\">\n    <g id=\"ytick_1\">\n     <g id=\"line2d_9\">\n      <defs>\n       <path d=\"M 0 0 \nL -3.5 0 \n\" id=\"mf2f1d761a4\" style=\"stroke:#000000;stroke-width:0.8;\"/>\n      </defs>\n      <g>\n       <use style=\"stroke:#000000;stroke-width:0.8;\" x=\"35.304688\" xlink:href=\"#mf2f1d761a4\" y=\"227.311718\"/>\n      </g>\n     </g>\n     <g id=\"text_9\">\n      <!-- −12 -->\n      <g transform=\"translate(7.2 231.110937)scale(0.1 -0.1)\">\n       <use xlink:href=\"#DejaVuSans-2212\"/>\n       <use x=\"83.789062\" xlink:href=\"#DejaVuSans-31\"/>\n       <use x=\"147.412109\" xlink:href=\"#DejaVuSans-32\"/>\n      </g>\n     </g>\n    </g>\n    <g id=\"ytick_2\">\n     <g id=\"line2d_10\">\n      <g>\n       <use style=\"stroke:#000000;stroke-width:0.8;\" x=\"35.304688\" xlink:href=\"#mf2f1d761a4\" y=\"201.331633\"/>\n      </g>\n     </g>\n     <g id=\"text_10\">\n      <!-- −10 -->\n      <g transform=\"translate(7.2 205.130852)scale(0.1 -0.1)\">\n       <use xlink:href=\"#DejaVuSans-2212\"/>\n       <use x=\"83.789062\" xlink:href=\"#DejaVuSans-31\"/>\n       <use x=\"147.412109\" xlink:href=\"#DejaVuSans-30\"/>\n      </g>\n     </g>\n    </g>\n    <g id=\"ytick_3\">\n     <g id=\"line2d_11\">\n      <g>\n       <use style=\"stroke:#000000;stroke-width:0.8;\" x=\"35.304688\" xlink:href=\"#mf2f1d761a4\" y=\"175.351548\"/>\n      </g>\n     </g>\n     <g id=\"text_11\">\n      <!-- −8 -->\n      <g transform=\"translate(13.5625 179.150767)scale(0.1 -0.1)\">\n       <use xlink:href=\"#DejaVuSans-2212\"/>\n       <use x=\"83.789062\" xlink:href=\"#DejaVuSans-38\"/>\n      </g>\n     </g>\n    </g>\n    <g id=\"ytick_4\">\n     <g id=\"line2d_12\">\n      <g>\n       <use style=\"stroke:#000000;stroke-width:0.8;\" x=\"35.304688\" xlink:href=\"#mf2f1d761a4\" y=\"149.371464\"/>\n      </g>\n     </g>\n     <g id=\"text_12\">\n      <!-- −6 -->\n      <g transform=\"translate(13.5625 153.170682)scale(0.1 -0.1)\">\n       <use xlink:href=\"#DejaVuSans-2212\"/>\n       <use x=\"83.789062\" xlink:href=\"#DejaVuSans-36\"/>\n      </g>\n     </g>\n    </g>\n    <g id=\"ytick_5\">\n     <g id=\"line2d_13\">\n      <g>\n       <use style=\"stroke:#000000;stroke-width:0.8;\" x=\"35.304688\" xlink:href=\"#mf2f1d761a4\" y=\"123.391379\"/>\n      </g>\n     </g>\n     <g id=\"text_13\">\n      <!-- −4 -->\n      <g transform=\"translate(13.5625 127.190598)scale(0.1 -0.1)\">\n       <use xlink:href=\"#DejaVuSans-2212\"/>\n       <use x=\"83.789062\" xlink:href=\"#DejaVuSans-34\"/>\n      </g>\n     </g>\n    </g>\n    <g id=\"ytick_6\">\n     <g id=\"line2d_14\">\n      <g>\n       <use style=\"stroke:#000000;stroke-width:0.8;\" x=\"35.304688\" xlink:href=\"#mf2f1d761a4\" y=\"97.411294\"/>\n      </g>\n     </g>\n     <g id=\"text_14\">\n      <!-- −2 -->\n      <g transform=\"translate(13.5625 101.210513)scale(0.1 -0.1)\">\n       <use xlink:href=\"#DejaVuSans-2212\"/>\n       <use x=\"83.789062\" xlink:href=\"#DejaVuSans-32\"/>\n      </g>\n     </g>\n    </g>\n    <g id=\"ytick_7\">\n     <g id=\"line2d_15\">\n      <g>\n       <use style=\"stroke:#000000;stroke-width:0.8;\" x=\"35.304688\" xlink:href=\"#mf2f1d761a4\" y=\"71.431209\"/>\n      </g>\n     </g>\n     <g id=\"text_15\">\n      <!-- 0 -->\n      <g transform=\"translate(21.942188 75.230428)scale(0.1 -0.1)\">\n       <use xlink:href=\"#DejaVuSans-30\"/>\n      </g>\n     </g>\n    </g>\n    <g id=\"ytick_8\">\n     <g id=\"line2d_16\">\n      <g>\n       <use style=\"stroke:#000000;stroke-width:0.8;\" x=\"35.304688\" xlink:href=\"#mf2f1d761a4\" y=\"45.451124\"/>\n      </g>\n     </g>\n     <g id=\"text_16\">\n      <!-- 2 -->\n      <g transform=\"translate(21.942188 49.250343)scale(0.1 -0.1)\">\n       <use xlink:href=\"#DejaVuSans-32\"/>\n      </g>\n     </g>\n    </g>\n    <g id=\"ytick_9\">\n     <g id=\"line2d_17\">\n      <g>\n       <use style=\"stroke:#000000;stroke-width:0.8;\" x=\"35.304688\" xlink:href=\"#mf2f1d761a4\" y=\"19.47104\"/>\n      </g>\n     </g>\n     <g id=\"text_17\">\n      <!-- 4 -->\n      <g transform=\"translate(21.942188 23.270258)scale(0.1 -0.1)\">\n       <use xlink:href=\"#DejaVuSans-34\"/>\n      </g>\n     </g>\n    </g>\n   </g>\n   <g id=\"line2d_18\">\n    <defs>\n     <path d=\"M 0 3 \nC 0.795609 3 1.55874 2.683901 2.12132 2.12132 \nC 2.683901 1.55874 3 0.795609 3 0 \nC 3 -0.795609 2.683901 -1.55874 2.12132 -2.12132 \nC 1.55874 -2.683901 0.795609 -3 0 -3 \nC -0.795609 -3 -1.55874 -2.683901 -2.12132 -2.12132 \nC -2.683901 -1.55874 -3 -0.795609 -3 0 \nC -3 0.795609 -2.683901 1.55874 -2.12132 2.12132 \nC -1.55874 2.683901 -0.795609 3 0 3 \nz\n\" id=\"m5f2de5251d\" style=\"stroke:#0000ff;\"/>\n    </defs>\n    <g clip-path=\"url(#p05d10b6ded)\">\n     <use style=\"fill:#0000ff;stroke:#0000ff;\" x=\"154.376958\" xlink:href=\"#m5f2de5251d\" y=\"71.431209\"/>\n     <use style=\"fill:#0000ff;stroke:#0000ff;\" x=\"156.793425\" xlink:href=\"#m5f2de5251d\" y=\"71.123787\"/>\n     <use style=\"fill:#0000ff;stroke:#0000ff;\" x=\"158.972834\" xlink:href=\"#m5f2de5251d\" y=\"83.93723\"/>\n     <use style=\"fill:#0000ff;stroke:#0000ff;\" x=\"157.855251\" xlink:href=\"#m5f2de5251d\" y=\"79.142475\"/>\n     <use style=\"fill:#0000ff;stroke:#0000ff;\" x=\"178.643531\" xlink:href=\"#m5f2de5251d\" y=\"80.807201\"/>\n     <use style=\"fill:#0000ff;stroke:#0000ff;\" x=\"197.675739\" xlink:href=\"#m5f2de5251d\" y=\"82.589448\"/>\n     <use style=\"fill:#0000ff;stroke:#0000ff;\" x=\"217.408395\" xlink:href=\"#m5f2de5251d\" y=\"84.238248\"/>\n     <use style=\"fill:#0000ff;stroke:#0000ff;\" x=\"241.255132\" xlink:href=\"#m5f2de5251d\" y=\"86.018377\"/>\n     <use style=\"fill:#0000ff;stroke:#0000ff;\" x=\"263.856072\" xlink:href=\"#m5f2de5251d\" y=\"88.475703\"/>\n     <use style=\"fill:#0000ff;stroke:#0000ff;\" x=\"283.670038\" xlink:href=\"#m5f2de5251d\" y=\"86.722568\"/>\n     <use style=\"fill:#0000ff;stroke:#0000ff;\" x=\"281.684753\" xlink:href=\"#m5f2de5251d\" y=\"87.285686\"/>\n     <use style=\"fill:#0000ff;stroke:#0000ff;\" x=\"280.21886\" xlink:href=\"#m5f2de5251d\" y=\"86.917028\"/>\n     <use style=\"fill:#0000ff;stroke:#0000ff;\" x=\"262.51268\" xlink:href=\"#m5f2de5251d\" y=\"87.049787\"/>\n     <use style=\"fill:#0000ff;stroke:#0000ff;\" x=\"243.183345\" xlink:href=\"#m5f2de5251d\" y=\"86.537589\"/>\n     <use style=\"fill:#0000ff;stroke:#0000ff;\" x=\"242.729178\" xlink:href=\"#m5f2de5251d\" y=\"88.326059\"/>\n     <use style=\"fill:#0000ff;stroke:#0000ff;\" x=\"243.187846\" xlink:href=\"#m5f2de5251d\" y=\"87.915184\"/>\n     <use style=\"fill:#0000ff;stroke:#0000ff;\" x=\"220.994937\" xlink:href=\"#m5f2de5251d\" y=\"87.93363\"/>\n     <use style=\"fill:#0000ff;stroke:#0000ff;\" x=\"200.482033\" xlink:href=\"#m5f2de5251d\" y=\"89.412026\"/>\n     <use style=\"fill:#0000ff;stroke:#0000ff;\" x=\"178.163194\" xlink:href=\"#m5f2de5251d\" y=\"89.169762\"/>\n     <use style=\"fill:#0000ff;stroke:#0000ff;\" x=\"155.519555\" xlink:href=\"#m5f2de5251d\" y=\"87.212942\"/>\n     <use style=\"fill:#0000ff;stroke:#0000ff;\" x=\"135.729792\" xlink:href=\"#m5f2de5251d\" y=\"87.805027\"/>\n     <use style=\"fill:#0000ff;stroke:#0000ff;\" x=\"116.413802\" xlink:href=\"#m5f2de5251d\" y=\"85.123103\"/>\n     <use style=\"fill:#0000ff;stroke:#0000ff;\" x=\"115.860954\" xlink:href=\"#m5f2de5251d\" y=\"87.017053\"/>\n     <use style=\"fill:#0000ff;stroke:#0000ff;\" x=\"119.359542\" xlink:href=\"#m5f2de5251d\" y=\"73.323235\"/>\n     <use style=\"fill:#0000ff;stroke:#0000ff;\" x=\"122.636733\" xlink:href=\"#m5f2de5251d\" y=\"73.474413\"/>\n     <use style=\"fill:#0000ff;stroke:#0000ff;\" x=\"119.635858\" xlink:href=\"#m5f2de5251d\" y=\"71.596521\"/>\n     <use style=\"fill:#0000ff;stroke:#0000ff;\" x=\"119.356966\" xlink:href=\"#m5f2de5251d\" y=\"72.351112\"/>\n     <use style=\"fill:#0000ff;stroke:#0000ff;\" x=\"140.076039\" xlink:href=\"#m5f2de5251d\" y=\"72.134191\"/>\n     <use style=\"fill:#0000ff;stroke:#0000ff;\" x=\"162.500083\" xlink:href=\"#m5f2de5251d\" y=\"74.547261\"/>\n     <use style=\"fill:#0000ff;stroke:#0000ff;\" x=\"187.709869\" xlink:href=\"#m5f2de5251d\" y=\"76.259595\"/>\n     <use style=\"fill:#0000ff;stroke:#0000ff;\" x=\"203.433777\" xlink:href=\"#m5f2de5251d\" y=\"75.238084\"/>\n     <use style=\"fill:#0000ff;stroke:#0000ff;\" x=\"200.267072\" xlink:href=\"#m5f2de5251d\" y=\"75.274404\"/>\n     <use style=\"fill:#0000ff;stroke:#0000ff;\" x=\"199.021925\" xlink:href=\"#m5f2de5251d\" y=\"88.736414\"/>\n     <use style=\"fill:#0000ff;stroke:#0000ff;\" x=\"200.313197\" xlink:href=\"#m5f2de5251d\" y=\"101.690992\"/>\n     <use style=\"fill:#0000ff;stroke:#0000ff;\" x=\"195.249596\" xlink:href=\"#m5f2de5251d\" y=\"114.448513\"/>\n     <use style=\"fill:#0000ff;stroke:#0000ff;\" x=\"195.37381\" xlink:href=\"#m5f2de5251d\" y=\"127.870215\"/>\n     <use style=\"fill:#0000ff;stroke:#0000ff;\" x=\"195.533206\" xlink:href=\"#m5f2de5251d\" y=\"141.515603\"/>\n     <use style=\"fill:#0000ff;stroke:#0000ff;\" x=\"193.070809\" xlink:href=\"#m5f2de5251d\" y=\"154.707773\"/>\n     <use style=\"fill:#0000ff;stroke:#0000ff;\" x=\"188.324287\" xlink:href=\"#m5f2de5251d\" y=\"168.078036\"/>\n     <use style=\"fill:#0000ff;stroke:#0000ff;\" x=\"189.565355\" xlink:href=\"#m5f2de5251d\" y=\"167.482439\"/>\n     <use style=\"fill:#0000ff;stroke:#0000ff;\" x=\"189.325724\" xlink:href=\"#m5f2de5251d\" y=\"165.973517\"/>\n    </g>\n   </g>\n   <g id=\"line2d_19\">\n    <defs>\n     <path d=\"M 0 -3 \nL -0.673542 -0.927051 \nL -2.85317 -0.927051 \nL -1.089814 0.354102 \nL -1.763356 2.427051 \nL -0 1.145898 \nL 1.763356 2.427051 \nL 1.089814 0.354102 \nL 2.85317 -0.927051 \nL 0.673542 -0.927051 \nz\n\" id=\"m732c145d3d\" style=\"stroke:#ff0000;stroke-linejoin:bevel;\"/>\n    </defs>\n    <g clip-path=\"url(#p05d10b6ded)\">\n     <use style=\"fill:#ff0000;stroke:#ff0000;stroke-linejoin:bevel;\" x=\"342.453308\" xlink:href=\"#m732c145d3d\" y=\"102.046012\"/>\n     <use style=\"fill:#ff0000;stroke:#ff0000;stroke-linejoin:bevel;\" x=\"164.467406\" xlink:href=\"#m732c145d3d\" y=\"71.781083\"/>\n     <use style=\"fill:#ff0000;stroke:#ff0000;stroke-linejoin:bevel;\" x=\"143.998607\" xlink:href=\"#m732c145d3d\" y=\"213.447448\"/>\n     <use style=\"fill:#ff0000;stroke:#ff0000;stroke-linejoin:bevel;\" x=\"203.138155\" xlink:href=\"#m732c145d3d\" y=\"98.973477\"/>\n     <use style=\"fill:#ff0000;stroke:#ff0000;stroke-linejoin:bevel;\" x=\"229.122272\" xlink:href=\"#m732c145d3d\" y=\"181.28527\"/>\n     <use style=\"fill:#ff0000;stroke:#ff0000;stroke-linejoin:bevel;\" x=\"238.253824\" xlink:href=\"#m732c145d3d\" y=\"92.428444\"/>\n     <use style=\"fill:#ff0000;stroke:#ff0000;stroke-linejoin:bevel;\" x=\"129.082132\" xlink:href=\"#m732c145d3d\" y=\"199.267772\"/>\n     <use style=\"fill:#ff0000;stroke:#ff0000;stroke-linejoin:bevel;\" x=\"152.443574\" xlink:href=\"#m732c145d3d\" y=\"39.657954\"/>\n     <use style=\"fill:#ff0000;stroke:#ff0000;stroke-linejoin:bevel;\" x=\"321.774136\" xlink:href=\"#m732c145d3d\" y=\"117.572748\"/>\n     <use style=\"fill:#ff0000;stroke:#ff0000;stroke-linejoin:bevel;\" x=\"204.535826\" xlink:href=\"#m732c145d3d\" y=\"139.68401\"/>\n     <use style=\"fill:#ff0000;stroke:#ff0000;stroke-linejoin:bevel;\" x=\"129.63734\" xlink:href=\"#m732c145d3d\" y=\"218.256364\"/>\n     <use style=\"fill:#ff0000;stroke:#ff0000;stroke-linejoin:bevel;\" x=\"139.700458\" xlink:href=\"#m732c145d3d\" y=\"23.962605\"/>\n     <use style=\"fill:#ff0000;stroke:#ff0000;stroke-linejoin:bevel;\" x=\"85.370163\" xlink:href=\"#m732c145d3d\" y=\"110.687379\"/>\n     <use style=\"fill:#ff0000;stroke:#ff0000;stroke-linejoin:bevel;\" x=\"96.701527\" xlink:href=\"#m732c145d3d\" y=\"99.113768\"/>\n     <use style=\"fill:#ff0000;stroke:#ff0000;stroke-linejoin:bevel;\" x=\"253.960572\" xlink:href=\"#m732c145d3d\" y=\"211.045585\"/>\n     <use style=\"fill:#ff0000;stroke:#ff0000;stroke-linejoin:bevel;\" x=\"354.886506\" xlink:href=\"#m732c145d3d\" y=\"135.939371\"/>\n     <use style=\"fill:#ff0000;stroke:#ff0000;stroke-linejoin:bevel;\" x=\"217.090671\" xlink:href=\"#m732c145d3d\" y=\"162.058706\"/>\n     <use style=\"fill:#ff0000;stroke:#ff0000;stroke-linejoin:bevel;\" x=\"119.957226\" xlink:href=\"#m732c145d3d\" y=\"20.583636\"/>\n     <use style=\"fill:#ff0000;stroke:#ff0000;stroke-linejoin:bevel;\" x=\"291.534782\" xlink:href=\"#m732c145d3d\" y=\"54.842536\"/>\n     <use style=\"fill:#ff0000;stroke:#ff0000;stroke-linejoin:bevel;\" x=\"203.715672\" xlink:href=\"#m732c145d3d\" y=\"98.226678\"/>\n     <use style=\"fill:#ff0000;stroke:#ff0000;stroke-linejoin:bevel;\" x=\"329.928718\" xlink:href=\"#m732c145d3d\" y=\"85.774684\"/>\n     <use style=\"fill:#ff0000;stroke:#ff0000;stroke-linejoin:bevel;\" x=\"145.065968\" xlink:href=\"#m732c145d3d\" y=\"71.425857\"/>\n     <use style=\"fill:#ff0000;stroke:#ff0000;stroke-linejoin:bevel;\" x=\"158.194941\" xlink:href=\"#m732c145d3d\" y=\"156.174352\"/>\n     <use style=\"fill:#ff0000;stroke:#ff0000;stroke-linejoin:bevel;\" x=\"91.341019\" xlink:href=\"#m732c145d3d\" y=\"160.102666\"/>\n     <use style=\"fill:#ff0000;stroke:#ff0000;stroke-linejoin:bevel;\" x=\"315.578671\" xlink:href=\"#m732c145d3d\" y=\"93.051187\"/>\n     <use style=\"fill:#ff0000;stroke:#ff0000;stroke-linejoin:bevel;\" x=\"238.866097\" xlink:href=\"#m732c145d3d\" y=\"194.653712\"/>\n     <use style=\"fill:#ff0000;stroke:#ff0000;stroke-linejoin:bevel;\" x=\"96.171849\" xlink:href=\"#m732c145d3d\" y=\"48.944017\"/>\n     <use style=\"fill:#ff0000;stroke:#ff0000;stroke-linejoin:bevel;\" x=\"259.718391\" xlink:href=\"#m732c145d3d\" y=\"76.606299\"/>\n     <use style=\"fill:#ff0000;stroke:#ff0000;stroke-linejoin:bevel;\" x=\"50.522869\" xlink:href=\"#m732c145d3d\" y=\"49.311506\"/>\n     <use style=\"fill:#ff0000;stroke:#ff0000;stroke-linejoin:bevel;\" x=\"172.626874\" xlink:href=\"#m732c145d3d\" y=\"186.785253\"/>\n     <use style=\"fill:#ff0000;stroke:#ff0000;stroke-linejoin:bevel;\" x=\"135.17143\" xlink:href=\"#m732c145d3d\" y=\"198.291317\"/>\n     <use style=\"fill:#ff0000;stroke:#ff0000;stroke-linejoin:bevel;\" x=\"150.542305\" xlink:href=\"#m732c145d3d\" y=\"88.880733\"/>\n     <use style=\"fill:#ff0000;stroke:#ff0000;stroke-linejoin:bevel;\" x=\"292.620101\" xlink:href=\"#m732c145d3d\" y=\"171.366725\"/>\n     <use style=\"fill:#ff0000;stroke:#ff0000;stroke-linejoin:bevel;\" x=\"152.156015\" xlink:href=\"#m732c145d3d\" y=\"192.745088\"/>\n     <use style=\"fill:#ff0000;stroke:#ff0000;stroke-linejoin:bevel;\" x=\"203.287467\" xlink:href=\"#m732c145d3d\" y=\"196.356963\"/>\n     <use style=\"fill:#ff0000;stroke:#ff0000;stroke-linejoin:bevel;\" x=\"258.353331\" xlink:href=\"#m732c145d3d\" y=\"27.308971\"/>\n    </g>\n   </g>\n   <g id=\"line2d_20\">\n    <path clip-path=\"url(#p05d10b6ded)\" d=\"M 154.376958 71.431209 \nL 156.793425 71.123787 \nL 158.972834 83.93723 \nL 157.855251 79.142475 \nL 178.643531 80.807201 \nL 197.675739 82.589448 \nL 217.408395 84.238248 \nL 241.255132 86.018377 \nL 263.856072 88.475703 \nL 283.670038 86.722568 \nL 281.684753 87.285686 \nL 280.21886 86.917028 \nL 262.51268 87.049787 \nL 243.183345 86.537589 \nL 242.729178 88.326059 \nL 243.187846 87.915184 \nL 220.994937 87.93363 \nL 200.482033 89.412026 \nL 178.163194 89.169762 \nL 155.519555 87.212942 \nL 135.729792 87.805027 \nL 116.413802 85.123103 \nL 115.860954 87.017053 \nL 119.359542 73.323235 \nL 122.636733 73.474413 \nL 119.635858 71.596521 \nL 119.356966 72.351112 \nL 140.076039 72.134191 \nL 162.500083 74.547261 \nL 187.709869 76.259595 \nL 203.433777 75.238084 \nL 200.267072 75.274404 \nL 199.021925 88.736414 \nL 200.313197 101.690992 \nL 195.249596 114.448513 \nL 195.37381 127.870215 \nL 195.533206 141.515603 \nL 193.070809 154.707773 \nL 188.324287 168.078036 \nL 189.565355 167.482439 \nL 156.793425 71.123787 \nL 158.972834 83.93723 \nL 157.855251 79.142475 \nL 178.643531 80.807201 \nL 197.675739 82.589448 \nL 217.408395 84.238248 \nL 241.255132 86.018377 \nL 263.856072 88.475703 \nL 283.670038 86.722568 \nL 281.684753 87.285686 \nL 280.21886 86.917028 \nL 262.51268 87.049787 \nL 243.183345 86.537589 \nL 242.729178 88.326059 \nL 243.187846 87.915184 \nL 220.994937 87.93363 \nL 200.482033 89.412026 \nL 178.163194 89.169762 \nL 155.519555 87.212942 \nL 135.729792 87.805027 \nL 116.413802 85.123103 \nL 115.860954 87.017053 \nL 119.359542 73.323235 \nL 122.636733 73.474413 \nL 119.635858 71.596521 \nL 119.356966 72.351112 \nL 140.076039 72.134191 \nL 162.500083 74.547261 \nL 187.709869 76.259595 \nL 203.433777 75.238084 \nL 200.267072 75.274404 \nL 199.021925 88.736414 \nL 200.313197 101.690992 \nL 195.249596 114.448513 \nL 195.37381 127.870215 \nL 195.533206 141.515603 \nL 193.070809 154.707773 \nL 188.324287 168.078036 \nL 189.565355 167.482439 \nL 189.325724 165.973517 \n\" style=\"fill:none;stroke:#ff0000;stroke-linecap:square;stroke-width:1.5;\"/>\n   </g>\n   <g id=\"patch_3\">\n    <path d=\"M 35.304688 228.14 \nL 35.304688 10.7 \n\" style=\"fill:none;stroke:#000000;stroke-linecap:square;stroke-linejoin:miter;stroke-width:0.8;\"/>\n   </g>\n   <g id=\"patch_4\">\n    <path d=\"M 370.104688 228.14 \nL 370.104688 10.7 \n\" style=\"fill:none;stroke:#000000;stroke-linecap:square;stroke-linejoin:miter;stroke-width:0.8;\"/>\n   </g>\n   <g id=\"patch_5\">\n    <path d=\"M 35.304688 228.14 \nL 370.104688 228.14 \n\" style=\"fill:none;stroke:#000000;stroke-linecap:square;stroke-linejoin:miter;stroke-width:0.8;\"/>\n   </g>\n   <g id=\"patch_6\">\n    <path d=\"M 35.304688 10.7 \nL 370.104688 10.7 \n\" style=\"fill:none;stroke:#000000;stroke-linecap:square;stroke-linejoin:miter;stroke-width:0.8;\"/>\n   </g>\n  </g>\n </g>\n <defs>\n  <clipPath id=\"p05d10b6ded\">\n   <rect height=\"217.44\" width=\"334.8\" x=\"35.304688\" y=\"10.7\"/>\n  </clipPath>\n </defs>\n</svg>\n",
      "image/png": "[encoded data removed]"
     },
     "metadata": {
      "needs_background": "light"
     }
    },
    {
     "output_type": "stream",
     "name": "stdout",
     "text": "Loaded graph with 77 nodes and 297 edges\nNode 128 = [ 0.378644 -0.23988  -0.0333  ] is a VERTEX_SE2 node\nNode 128 from the state vector = [ 0.378644 -0.23988  -0.0333  ]\nNode 1 = [ 8.76682 -2.35679] is a VERTEX_XY node\nNode 1 from the state vector = [ 8.76682 -2.35679]\nEdge 0 = Edge(Type='P', fromNode=100, toNode=101, measurement=array([ 0.112639,  0.023666, -1.57066 ], dtype=float32), information=array([[ 100.,    0.,    0.],\n       [   0.,  100.,    0.],\n       [   0.,    0., 1000.]], dtype=float32)) is a pose-pose constraint\nEdge 1 = Edge(Type='L', fromNode=101, toNode=4, measurement=array([0.050648, 0.357701], dtype=float32), information=array([[100.,   0.],\n       [  0., 100.]], dtype=float32)) is a pose-landmark constraint\n"
    }
   ],
   "source": [
    "import ex1_2 as ex\n",
    "%matplotlib inline\n",
    "\n",
    "# load a dataset \n",
    "filename = 'data/simulation-pose-landmark.g2o'\n",
    "graph = ex.read_graph_g2o(filename)\n",
    "\n",
    "# visualize the dataset\n",
    "ex.plot_graph(graph)\n",
    "print('Loaded graph with {} nodes and {} edges'.format(len(graph.nodes), len(graph.edges)))\n",
    "\n",
    "# print information for the two types of nodes\n",
    "nodeId = 128\n",
    "print('Node {} = {} is a VERTEX_SE2 node'.format(nodeId, graph.nodes[nodeId]))\n",
    "\n",
    "# access the state vector using the lookup table\n",
    "fromIdx = graph.lut[nodeId]\n",
    "print('Node {} from the state vector = {}'.format(nodeId,graph.x[fromIdx:fromIdx+3]))\n",
    "\n",
    "nodeId = 1\n",
    "print('Node {} = {} is a VERTEX_XY node'.format(nodeId, graph.nodes[nodeId]))\n",
    "\n",
    "# access the state vector using the lookup table\n",
    "fromIdx = graph.lut[nodeId]\n",
    "print('Node {} from the state vector = {}'.format(nodeId, graph.x[fromIdx:fromIdx+2]))\n",
    "\n",
    "# print information for two types of edges\n",
    "eid = 0 \n",
    "print('Edge {} = {} is a pose-pose constraint'.format(eid, graph.edges[eid]))\n",
    "\n",
    "eid = 1 \n",
    "print('Edge {} = {} is a pose-landmark constraint'.format(eid, graph.edges[eid]))"
   ]
  },
  {
   "cell_type": "markdown",
   "metadata": {},
   "source": [
    "## Task 1.2.1 Computing total error. [5]\n",
    "\n",
    "In this task, you have implement the function  `compute_global_error` function  for computing the current error value for a graph with constraints. Compute this error for all the four datasets and print the results. "
   ]
  },
  {
   "cell_type": "code",
   "execution_count": 2,
   "metadata": {},
   "outputs": [
    {
     "output_type": "stream",
     "name": "stdout",
     "text": "Computation the init error for all the four datasets.\nLoaded graph with 400 nodes and 1773 edges\nError simulation-pose-pose init: 138862241.14041948\nLoaded graph with 1728 nodes and 4830 edges\nError intel init: 1795139.029852272\nLoaded graph with 77 nodes and 297 edges\nError simulation-pose-landmark init: 3030.3130131072985\nLoaded graph with 3873 nodes and 17605 edges\nError dlr init: 369655331.59553665\n"
    }
   ],
   "source": [
    "print(\"Computation the init error for all the four datasets.\")\n",
    "\n",
    "filename_pose_pose = 'data/simulation-pose-pose.g2o'\n",
    "graph = ex.read_graph_g2o(filename_pose_pose)\n",
    "simulation_pose_pose_error_init = ex.compute_global_error(graph)\n",
    "print(\"Error simulation-pose-pose init: \" +\n",
    "      str(simulation_pose_pose_error_init))\n",
    "\n",
    "filename_intel = 'data/intel.g2o'\n",
    "graph = ex.read_graph_g2o(filename_intel)\n",
    "intel_error_init = ex.compute_global_error(graph)\n",
    "print(\"Error intel init: \" + str(intel_error_init))\n",
    "\n",
    "filename_pose_landmark = 'data/simulation-pose-landmark.g2o'\n",
    "graph = ex.read_graph_g2o(filename_pose_landmark)\n",
    "simulation_pose_landmark_error_init = ex.compute_global_error(graph)\n",
    "print(\"Error simulation-pose-landmark init: \" +\n",
    "      str(simulation_pose_landmark_error_init))\n",
    "\n",
    "filename_dlr = 'data/dlr.g2o'\n",
    "graph = ex.read_graph_g2o(filename_dlr)\n",
    "dlr_error_init = ex.compute_global_error(graph)\n",
    "print(\"Error dlr init: \" + str(dlr_error_init))\n"
   ]
  },
  {
   "cell_type": "markdown",
   "metadata": {},
   "source": [
    "## 1.2.2 Linearization of a Pose-Pose constraint [5]\n",
    "\n",
    "Since the constraint described by the edge between two pose nodes is non-linear, you need to linearize it solve the least-squares optimization. The function `linearize_pose_pose_constraint` computes the error and the Jacobian for pose-pose constraint. It takes as input: \n",
    "   \n",
    "    x1 : 3x1 vector \n",
    "         $(x,y,\\theta)$ of the first robot pose\n",
    "    x2 : 3x1 vector\n",
    "         $(x,y,\\theta)$ of the second robot pose\n",
    "    z :  3x1 vector\n",
    "         $(x,y,\\theta)$ of the measurement\n",
    "    \n",
    "and returns\n",
    "\n",
    "    e  : 3x1\n",
    "         error of the constraint\n",
    "    A  : 3x3\n",
    "         Jacobian wrt x1\n",
    "    B  : 3x3\n",
    "         Jacobian wrt x2\n",
    "\n",
    "Implement the `linearize_pose_pose_constraint` function and verify that it is correct. \n",
    "\n",
    "**Hint** : You can verify the Jacobian computation by comparing against a numerically Jacobian for your test data.\n"
   ]
  },
  {
   "cell_type": "code",
   "execution_count": null,
   "metadata": {},
   "outputs": [],
   "source": []
  },
  {
   "cell_type": "markdown",
   "metadata": {},
   "source": [
    "## 1.2.3 Linearization of a Pose-Landmark constraint [5]\n",
    "\n",
    "Since the constraint described by the edge between a pose and landmark node is non-linear, you need to linearize it solve the least-squares optimization. The function `linearize_pose_landmark_constraint` computes the error and the Jacobian for pose-landmark constraint. It takes as input: \n",
    "\n",
    "    x : 3x1 vector\n",
    "        (x,y,theta) og the robot pose\n",
    "    l : 2x1 vector\n",
    "        (x,y) of the landmark\n",
    "    z : 2x1 vector\n",
    "        (x,y) of the measurement\n",
    "    \n",
    "and returns:\n",
    "\n",
    "    e : 2x1 vector\n",
    "        error for the constraint\n",
    "    A : 2x3 Jacobian wrt x\n",
    "    B : 2x2 Jacobian wrt l\n",
    "    \n",
    "Implement the `linearize_and_solve` function and verify that it is correct. \n",
    "\n",
    "**Hint** : You can verify the Jacobian computation by comparing against a numerically Jacobian for your test data."
   ]
  },
  {
   "cell_type": "code",
   "execution_count": null,
   "metadata": {},
   "outputs": [],
   "source": []
  },
  {
   "cell_type": "markdown",
   "metadata": {},
   "source": [
    "## 1.2.4 Building and Solving Linearized System [5]\n",
    "\n",
    "The `linearize_and_solve` function builds the $H$ and $b$ matrices in order to solve for $dx$ (i.e. change in the unknowns $x$) for one iteration. The function takes as input:\n",
    "\n",
    "    g : graph at iteration i\n",
    "    \n",
    "and returns\n",
    "\n",
    "    dx : Nx1 vector \n",
    "        change in the solution for the unknowns x\n",
    "\n",
    "Implement the `linearize_and_solve` function. Some skeletal code for the function is already provided to you to start with."
   ]
  },
  {
   "cell_type": "code",
   "execution_count": null,
   "metadata": {},
   "outputs": [],
   "source": []
  },
  {
   "cell_type": "markdown",
   "metadata": {},
   "source": [
    "## 1.2.5 Iterative procedure for solving non-linear least squares [5]\n",
    "\n",
    "The `run_graph_slam` function iteratively solves the least squares problem and updates the unknowns $x$. The procedure should be terminated if the change in $|dx| < 10^-4$ or the until a maximum number of iterations  (maxIter = 100) is reached. \n",
    "\n",
    "Implement the function `run_graph_slam` to perform the optimization. Some hints are provided as comments in the function. Test the function on the `simulation-pose-pose.g2o` and `simulation-pose-landmark.g2o` datasets. "
   ]
  },
  {
   "cell_type": "code",
   "execution_count": null,
   "metadata": {},
   "outputs": [],
   "source": []
  },
  {
   "cell_type": "markdown",
   "metadata": {},
   "source": [
    "## 1.2.6 Results for different datasets [5]\n",
    "\n",
    "Evaluate the results of the graph-slam algorithm for all the four datasets. \n",
    "\n",
    "1. Create a `gif` animation visualing the results after each iteration. \n",
    "2. Plot the error vs iterations for all the datasets.\n",
    "\n",
    "Please run your code locally and upload the `gifs` generated from your results in the cell below."
   ]
  },
  {
   "cell_type": "code",
   "execution_count": null,
   "metadata": {},
   "outputs": [],
   "source": []
  }
 ],
 "metadata": {
  "kernelspec": {
   "display_name": "Python 3",
   "language": "python",
   "name": "python3"
  },
  "language_info": {
   "codemirror_mode": {
    "name": "ipython",
    "version": 3
   },
   "file_extension": ".py",
   "mimetype": "text/x-python",
   "name": "python",
   "nbconvert_exporter": "python",
   "pygments_lexer": "ipython3",
   "version": "3.6.9-final"
  }
 },
 "nbformat": 4,
 "nbformat_minor": 4
}